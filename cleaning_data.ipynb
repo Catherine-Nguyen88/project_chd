{
  "nbformat": 4,
  "nbformat_minor": 0,
  "metadata": {
    "colab": {
      "provenance": [],
      "authorship_tag": "ABX9TyOsfPFRdBdM+a7KcOtlBD/S",
      "include_colab_link": true
    },
    "kernelspec": {
      "name": "python3",
      "display_name": "Python 3"
    },
    "language_info": {
      "name": "python"
    }
  },
  "cells": [
    {
      "cell_type": "markdown",
      "metadata": {
        "id": "view-in-github",
        "colab_type": "text"
      },
      "source": [
        "<a href=\"https://colab.research.google.com/github/Catherine-Nguyen88/project_chd/blob/main/cleaning_data.ipynb\" target=\"_parent\"><img src=\"https://colab.research.google.com/assets/colab-badge.svg\" alt=\"Open In Colab\"/></a>"
      ]
    },
    {
      "cell_type": "code",
      "execution_count": 5,
      "metadata": {
        "id": "4u4Oei4ptmfB"
      },
      "outputs": [],
      "source": [
        "import pandas as pd\n",
        "\n",
        "train_data = pd.read_csv('fhs_train.csv')\n",
        "test_data = pd.read_csv('fhs_test.csv')\n"
      ]
    },
    {
      "cell_type": "code",
      "source": [
        "print(train_data.head())"
      ],
      "metadata": {
        "colab": {
          "base_uri": "https://localhost:8080/"
        },
        "id": "dPFWWC5Ot2Pa",
        "outputId": "547aeb0d-03ba-4568-a37f-0b4fe8bedb4f"
      },
      "execution_count": 8,
      "outputs": [
        {
          "output_type": "stream",
          "name": "stdout",
          "text": [
            "   Unnamed: 0  sex  age  education  currentSmoker  cigsPerDay  BPMeds  \\\n",
            "0        1267    1   58        1.0              0         0.0     0.0   \n",
            "1        1209    0   40        1.0              1        15.0     0.0   \n",
            "2        2050    0   52        1.0              0         0.0     0.0   \n",
            "3        1183    1   38        2.0              1        43.0     0.0   \n",
            "4        3225    0   43        1.0              0         0.0     0.0   \n",
            "\n",
            "   prevalentStroke  prevalentHyp  diabetes  totChol  sysBP  diaBP    BMI  \\\n",
            "0                0             0         0    220.0  143.0  104.0  29.85   \n",
            "1                0             0         0    199.0  122.0   82.0  22.16   \n",
            "2                0             0         0    275.0  112.0   71.0  25.68   \n",
            "3                0             1         0    170.0  130.0   94.0  23.90   \n",
            "4                0             0         0    202.0  124.0   92.0  21.26   \n",
            "\n",
            "   heartRate  glucose  TenYearCHD  \n",
            "0         75     87.0           1  \n",
            "1         85     77.0           0  \n",
            "2         80      NaN           0  \n",
            "3        110     75.0           0  \n",
            "4         75     74.0           0  \n"
          ]
        }
      ]
    },
    {
      "cell_type": "code",
      "source": [
        "print(test_data.head())"
      ],
      "metadata": {
        "id": "UHNrsaZEv4Yv",
        "outputId": "07c20938-7952-4734-9434-bc69da01efff",
        "colab": {
          "base_uri": "https://localhost:8080/"
        }
      },
      "execution_count": 9,
      "outputs": [
        {
          "output_type": "stream",
          "name": "stdout",
          "text": [
            "   Unnamed: 0  sex  age  education  currentSmoker  cigsPerDay  BPMeds  \\\n",
            "0         674    0   58        1.0              1        20.0     0.0   \n",
            "1        4070    0   51        3.0              0         0.0     0.0   \n",
            "2        3150    0   44        2.0              1         9.0     0.0   \n",
            "3        1695    0   40        2.0              1        20.0     0.0   \n",
            "4        2692    1   58        2.0              1        20.0     0.0   \n",
            "\n",
            "   prevalentStroke  prevalentHyp  diabetes  totChol  sysBP  diaBP    BMI  \\\n",
            "0                0             0         0      NaN  126.0   77.0  30.08   \n",
            "1                0             0         0    264.0  135.0   83.0  26.68   \n",
            "2                0             1         0      NaN  147.5   96.0  30.57   \n",
            "3                0             0         0    271.0  138.5   88.0  27.24   \n",
            "4                0             0         0    207.0  110.0   80.0  23.55   \n",
            "\n",
            "   heartRate  glucose  TenYearCHD  \n",
            "0       78.0      NaN           0  \n",
            "1       60.0     74.0           0  \n",
            "2       78.0      NaN           1  \n",
            "3       80.0      NaN           1  \n",
            "4       78.0     78.0           0  \n"
          ]
        }
      ]
    }
  ]
}
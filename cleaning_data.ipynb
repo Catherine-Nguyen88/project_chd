{
  "nbformat": 4,
  "nbformat_minor": 0,
  "metadata": {
    "colab": {
      "provenance": [],
      "include_colab_link": true
    },
    "kernelspec": {
      "name": "python3",
      "display_name": "Python 3"
    },
    "language_info": {
      "name": "python"
    }
  },
  "cells": [
    {
      "cell_type": "markdown",
      "metadata": {
        "id": "view-in-github",
        "colab_type": "text"
      },
      "source": [
        "<a href=\"https://colab.research.google.com/github/Catherine-Nguyen88/project_chd/blob/main/cleaning_data.ipynb\" target=\"_parent\"><img src=\"https://colab.research.google.com/assets/colab-badge.svg\" alt=\"Open In Colab\"/></a>"
      ]
    },
    {
      "cell_type": "markdown",
      "source": [
        "# Cleaning data"
      ],
      "metadata": {
        "id": "M2zvny8izMyj"
      }
    },
    {
      "cell_type": "code",
      "source": [
        "! git clone https://github.com/Catherine-Nguyen88/project_chd"
      ],
      "metadata": {
        "colab": {
          "base_uri": "https://localhost:8080/"
        },
        "id": "BDpJSCK3zPoE",
        "outputId": "172dd440-dc20-40ec-a331-8883dd1411fc"
      },
      "execution_count": 2,
      "outputs": [
        {
          "output_type": "stream",
          "name": "stdout",
          "text": [
            "Cloning into 'project_chd'...\n",
            "remote: Enumerating objects: 41, done.\u001b[K\n",
            "remote: Counting objects: 100% (39/39), done.\u001b[K\n",
            "remote: Compressing objects: 100% (25/25), done.\u001b[K\n",
            "remote: Total 41 (delta 22), reused 27 (delta 14), pack-reused 2\u001b[K\n",
            "Receiving objects: 100% (41/41), 821.15 KiB | 6.32 MiB/s, done.\n",
            "Resolving deltas: 100% (22/22), done.\n"
          ]
        }
      ]
    },
    {
      "cell_type": "code",
      "source": [
        "import pandas as pd\n",
        "import numpy as np"
      ],
      "metadata": {
        "id": "qrq0Ier2zVvm"
      },
      "execution_count": 3,
      "outputs": []
    },
    {
      "cell_type": "code",
      "execution_count": 4,
      "metadata": {
        "id": "4u4Oei4ptmfB"
      },
      "outputs": [],
      "source": [
        "# read in datasets\n",
        "train_data = pd.read_csv('./project_chd/fhs_train.csv')\n",
        "test_data = pd.read_csv('./project_chd/fhs_test.csv')"
      ]
    },
    {
      "cell_type": "markdown",
      "source": [
        "### **Explore training and testing data and clean**"
      ],
      "metadata": {
        "id": "PkAbIpM-zYjm"
      }
    },
    {
      "cell_type": "markdown",
      "source": [
        "**Training data**"
      ],
      "metadata": {
        "id": "fhmOisG50gve"
      }
    },
    {
      "cell_type": "code",
      "source": [
        "print(train_data.head())\n",
        "print(train_data.shape, '\\n') # there are 3180 rows\n",
        "print(\"Data types for variables in training dataset\", '\\n')\n",
        "print(train_data.dtypes)"
      ],
      "metadata": {
        "colab": {
          "base_uri": "https://localhost:8080/"
        },
        "id": "dPFWWC5Ot2Pa",
        "outputId": "1cffe769-612a-4fb4-fb31-795ce1d5dd9c"
      },
      "execution_count": 5,
      "outputs": [
        {
          "output_type": "stream",
          "name": "stdout",
          "text": [
            "   Unnamed: 0  sex  age  education  currentSmoker  cigsPerDay  BPMeds  \\\n",
            "0        1267    1   58        1.0              0         0.0     0.0   \n",
            "1        1209    0   40        1.0              1        15.0     0.0   \n",
            "2        2050    0   52        1.0              0         0.0     0.0   \n",
            "3        1183    1   38        2.0              1        43.0     0.0   \n",
            "4        3225    0   43        1.0              0         0.0     0.0   \n",
            "\n",
            "   prevalentStroke  prevalentHyp  diabetes  totChol  sysBP  diaBP    BMI  \\\n",
            "0                0             0         0    220.0  143.0  104.0  29.85   \n",
            "1                0             0         0    199.0  122.0   82.0  22.16   \n",
            "2                0             0         0    275.0  112.0   71.0  25.68   \n",
            "3                0             1         0    170.0  130.0   94.0  23.90   \n",
            "4                0             0         0    202.0  124.0   92.0  21.26   \n",
            "\n",
            "   heartRate  glucose  TenYearCHD  \n",
            "0         75     87.0           1  \n",
            "1         85     77.0           0  \n",
            "2         80      NaN           0  \n",
            "3        110     75.0           0  \n",
            "4         75     74.0           0  \n",
            "(3180, 17) \n",
            "\n",
            "Data types for variables in training dataset \n",
            "\n",
            "Unnamed: 0           int64\n",
            "sex                  int64\n",
            "age                  int64\n",
            "education          float64\n",
            "currentSmoker        int64\n",
            "cigsPerDay         float64\n",
            "BPMeds             float64\n",
            "prevalentStroke      int64\n",
            "prevalentHyp         int64\n",
            "diabetes             int64\n",
            "totChol            float64\n",
            "sysBP              float64\n",
            "diaBP              float64\n",
            "BMI                float64\n",
            "heartRate            int64\n",
            "glucose            float64\n",
            "TenYearCHD           int64\n",
            "dtype: object\n"
          ]
        }
      ]
    },
    {
      "cell_type": "code",
      "source": [
        "# count the nans in each variable\n",
        "num_nans = train_data.isna().sum()\n",
        "print(\"Number of NaNs for each variable:\")\n",
        "print(num_nans)"
      ],
      "metadata": {
        "colab": {
          "base_uri": "https://localhost:8080/"
        },
        "id": "YMPv5PHZ0c0_",
        "outputId": "6d04a119-b4d1-4241-d3e9-694b71590b4a"
      },
      "execution_count": 6,
      "outputs": [
        {
          "output_type": "stream",
          "name": "stdout",
          "text": [
            "Number of NaNs for each variable:\n",
            "Unnamed: 0           0\n",
            "sex                  0\n",
            "age                  0\n",
            "education           85\n",
            "currentSmoker        0\n",
            "cigsPerDay          24\n",
            "BPMeds              37\n",
            "prevalentStroke      0\n",
            "prevalentHyp         0\n",
            "diabetes             0\n",
            "totChol             39\n",
            "sysBP                0\n",
            "diaBP                0\n",
            "BMI                 15\n",
            "heartRate            0\n",
            "glucose            285\n",
            "TenYearCHD           0\n",
            "dtype: int64\n"
          ]
        }
      ]
    },
    {
      "cell_type": "code",
      "source": [
        "# check columns in train_data\n",
        "train_data.columns"
      ],
      "metadata": {
        "id": "Xuc9r_ma4_XJ",
        "outputId": "7cbab0b6-2ad6-42b2-e9f0-6c6ba4f4a030",
        "colab": {
          "base_uri": "https://localhost:8080/"
        }
      },
      "execution_count": 16,
      "outputs": [
        {
          "output_type": "execute_result",
          "data": {
            "text/plain": [
              "Index(['Unnamed: 0', 'sex', 'age', 'education', 'currentSmoker', 'cigsPerDay',\n",
              "       'BPMeds', 'prevalentStroke', 'prevalentHyp', 'diabetes', 'totChol',\n",
              "       'sysBP', 'diaBP', 'BMI', 'heartRate', 'glucose', 'TenYearCHD'],\n",
              "      dtype='object')"
            ]
          },
          "metadata": {},
          "execution_count": 16
        }
      ]
    },
    {
      "cell_type": "code",
      "source": [
        "# check to see how many unique values there are in the 'Unnamed: 0' column\n",
        "train_data['Unnamed: 0'].value_counts()"
      ],
      "metadata": {
        "id": "fcjIPoFS5DY1",
        "outputId": "0f9ddad9-2452-4215-82f9-100134d996b5",
        "colab": {
          "base_uri": "https://localhost:8080/"
        }
      },
      "execution_count": 8,
      "outputs": [
        {
          "output_type": "execute_result",
          "data": {
            "text/plain": [
              "1267    1\n",
              "322     1\n",
              "2301    1\n",
              "1143    1\n",
              "3915    1\n",
              "       ..\n",
              "4214    1\n",
              "2066    1\n",
              "3695    1\n",
              "1716    1\n",
              "691     1\n",
              "Name: Unnamed: 0, Length: 3180, dtype: int64"
            ]
          },
          "metadata": {},
          "execution_count": 8
        }
      ]
    },
    {
      "cell_type": "code",
      "source": [
        "# drop 'Unnamed: 0' column as it is not listed in the data dictionary and it serves no person.\n",
        "train_data1 = train_data.loc[:,['sex', 'age', 'education', 'currentSmoker', 'cigsPerDay',\n",
        "       'BPMeds', 'prevalentStroke', 'prevalentHyp', 'diabetes', 'totChol',\n",
        "       'sysBP', 'diaBP', 'BMI', 'heartRate', 'glucose', 'TenYearCHD']]\n",
        "train_data1.columns"
      ],
      "metadata": {
        "id": "dygHKAxN5mjm",
        "outputId": "60a42b70-8828-4792-80ae-83d540d7e58c",
        "colab": {
          "base_uri": "https://localhost:8080/"
        }
      },
      "execution_count": 9,
      "outputs": [
        {
          "output_type": "execute_result",
          "data": {
            "text/plain": [
              "Index(['sex', 'age', 'education', 'currentSmoker', 'cigsPerDay', 'BPMeds',\n",
              "       'prevalentStroke', 'prevalentHyp', 'diabetes', 'totChol', 'sysBP',\n",
              "       'diaBP', 'BMI', 'heartRate', 'glucose', 'TenYearCHD'],\n",
              "      dtype='object')"
            ]
          },
          "metadata": {},
          "execution_count": 9
        }
      ]
    },
    {
      "cell_type": "markdown",
      "source": [
        "**Testing data**"
      ],
      "metadata": {
        "id": "kCCuq-6r0l_l"
      }
    },
    {
      "cell_type": "code",
      "source": [
        "print(test_data.head())\n",
        "print(test_data.shape, '\\n') # there are 3180 rows\n",
        "print(\"Data types for variables in testing dataset\", '\\n')\n",
        "print(test_data.dtypes)"
      ],
      "metadata": {
        "colab": {
          "base_uri": "https://localhost:8080/"
        },
        "id": "LjIlMG_y0M-m",
        "outputId": "cbc53e07-5927-4d30-8012-82383efd2979"
      },
      "execution_count": 10,
      "outputs": [
        {
          "output_type": "stream",
          "name": "stdout",
          "text": [
            "   Unnamed: 0  sex  age  education  currentSmoker  cigsPerDay  BPMeds  \\\n",
            "0         674    0   58        1.0              1        20.0     0.0   \n",
            "1        4070    0   51        3.0              0         0.0     0.0   \n",
            "2        3150    0   44        2.0              1         9.0     0.0   \n",
            "3        1695    0   40        2.0              1        20.0     0.0   \n",
            "4        2692    1   58        2.0              1        20.0     0.0   \n",
            "\n",
            "   prevalentStroke  prevalentHyp  diabetes  totChol  sysBP  diaBP    BMI  \\\n",
            "0                0             0         0      NaN  126.0   77.0  30.08   \n",
            "1                0             0         0    264.0  135.0   83.0  26.68   \n",
            "2                0             1         0      NaN  147.5   96.0  30.57   \n",
            "3                0             0         0    271.0  138.5   88.0  27.24   \n",
            "4                0             0         0    207.0  110.0   80.0  23.55   \n",
            "\n",
            "   heartRate  glucose  TenYearCHD  \n",
            "0       78.0      NaN           0  \n",
            "1       60.0     74.0           0  \n",
            "2       78.0      NaN           1  \n",
            "3       80.0      NaN           1  \n",
            "4       78.0     78.0           0  \n",
            "(1060, 17) \n",
            "\n",
            "Data types for variables in testing dataset \n",
            "\n",
            "Unnamed: 0           int64\n",
            "sex                  int64\n",
            "age                  int64\n",
            "education          float64\n",
            "currentSmoker        int64\n",
            "cigsPerDay         float64\n",
            "BPMeds             float64\n",
            "prevalentStroke      int64\n",
            "prevalentHyp         int64\n",
            "diabetes             int64\n",
            "totChol            float64\n",
            "sysBP              float64\n",
            "diaBP              float64\n",
            "BMI                float64\n",
            "heartRate          float64\n",
            "glucose            float64\n",
            "TenYearCHD           int64\n",
            "dtype: object\n"
          ]
        }
      ]
    },
    {
      "cell_type": "code",
      "source": [
        "# count the nans in each variable\n",
        "num_nans = test_data.isna().sum()\n",
        "print(\"Number of NaNs for each variable:\")\n",
        "print(num_nans)"
      ],
      "metadata": {
        "colab": {
          "base_uri": "https://localhost:8080/"
        },
        "id": "wH6Kjnul0U6H",
        "outputId": "caa24da1-935f-4cc6-ac31-ab652fef559a"
      },
      "execution_count": 11,
      "outputs": [
        {
          "output_type": "stream",
          "name": "stdout",
          "text": [
            "Number of NaNs for each variable:\n",
            "Unnamed: 0           0\n",
            "sex                  0\n",
            "age                  0\n",
            "education           20\n",
            "currentSmoker        0\n",
            "cigsPerDay           5\n",
            "BPMeds              16\n",
            "prevalentStroke      0\n",
            "prevalentHyp         0\n",
            "diabetes             0\n",
            "totChol             11\n",
            "sysBP                0\n",
            "diaBP                0\n",
            "BMI                  4\n",
            "heartRate            1\n",
            "glucose            103\n",
            "TenYearCHD           0\n",
            "dtype: int64\n"
          ]
        }
      ]
    },
    {
      "cell_type": "code",
      "source": [
        "# look at test_data columns\n",
        "test_data.columns"
      ],
      "metadata": {
        "id": "WFgSk_Hu5qNw",
        "outputId": "a84c2175-276e-4b60-8c22-d09289a52cef",
        "colab": {
          "base_uri": "https://localhost:8080/"
        }
      },
      "execution_count": 13,
      "outputs": [
        {
          "output_type": "execute_result",
          "data": {
            "text/plain": [
              "Index(['Unnamed: 0', 'sex', 'age', 'education', 'currentSmoker', 'cigsPerDay',\n",
              "       'BPMeds', 'prevalentStroke', 'prevalentHyp', 'diabetes', 'totChol',\n",
              "       'sysBP', 'diaBP', 'BMI', 'heartRate', 'glucose', 'TenYearCHD'],\n",
              "      dtype='object')"
            ]
          },
          "metadata": {},
          "execution_count": 13
        }
      ]
    },
    {
      "cell_type": "code",
      "source": [
        "# check to see how many unique values there are in the 'Unnamed: 0' column\n",
        "test_data['Unnamed: 0'].value_counts()"
      ],
      "metadata": {
        "id": "1SZEueNl5uIo",
        "outputId": "a6a92b66-a10f-4ecc-a475-eb5665e35463",
        "colab": {
          "base_uri": "https://localhost:8080/"
        }
      },
      "execution_count": 14,
      "outputs": [
        {
          "output_type": "execute_result",
          "data": {
            "text/plain": [
              "674     1\n",
              "2344    1\n",
              "938     1\n",
              "2975    1\n",
              "2928    1\n",
              "       ..\n",
              "2563    1\n",
              "2258    1\n",
              "2864    1\n",
              "1907    1\n",
              "115     1\n",
              "Name: Unnamed: 0, Length: 1060, dtype: int64"
            ]
          },
          "metadata": {},
          "execution_count": 14
        }
      ]
    },
    {
      "cell_type": "code",
      "source": [
        "# drop 'Unnamed: 0' column as it is not listed in the data dictionary and it serves no person.\n",
        "test_data1 = train_data.loc[:,['sex', 'age', 'education', 'currentSmoker', 'cigsPerDay',\n",
        "       'BPMeds', 'prevalentStroke', 'prevalentHyp', 'diabetes', 'totChol',\n",
        "       'sysBP', 'diaBP', 'BMI', 'heartRate', 'glucose', 'TenYearCHD']]\n",
        "test_data1.columns"
      ],
      "metadata": {
        "id": "-9DIjkec5w4s",
        "outputId": "b98f824b-3f5a-4860-e3fa-610d7f220fd3",
        "colab": {
          "base_uri": "https://localhost:8080/"
        }
      },
      "execution_count": 15,
      "outputs": [
        {
          "output_type": "execute_result",
          "data": {
            "text/plain": [
              "Index(['sex', 'age', 'education', 'currentSmoker', 'cigsPerDay', 'BPMeds',\n",
              "       'prevalentStroke', 'prevalentHyp', 'diabetes', 'totChol', 'sysBP',\n",
              "       'diaBP', 'BMI', 'heartRate', 'glucose', 'TenYearCHD'],\n",
              "      dtype='object')"
            ]
          },
          "metadata": {},
          "execution_count": 15
        }
      ]
    }
  ]
}
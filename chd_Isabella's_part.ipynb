{
  "nbformat": 4,
  "nbformat_minor": 0,
  "metadata": {
    "colab": {
      "provenance": [],
      "authorship_tag": "ABX9TyO2P1+fzEZR///lWhueBdZN",
      "include_colab_link": true
    },
    "kernelspec": {
      "name": "python3",
      "display_name": "Python 3"
    },
    "language_info": {
      "name": "python"
    }
  },
  "cells": [
    {
      "cell_type": "markdown",
      "metadata": {
        "id": "view-in-github",
        "colab_type": "text"
      },
      "source": [
        "<a href=\"https://colab.research.google.com/github/Catherine-Nguyen88/project_chd/blob/main/chd_Isabella's_part.ipynb\" target=\"_parent\"><img src=\"https://colab.research.google.com/assets/colab-badge.svg\" alt=\"Open In Colab\"/></a>"
      ]
    },
    {
      "cell_type": "code",
      "execution_count": 1,
      "metadata": {
        "colab": {
          "base_uri": "https://localhost:8080/"
        },
        "id": "25Mi-eQVtjFz",
        "outputId": "64c8bfaa-e118-4d7d-a1b5-f70f769d3a1d"
      },
      "outputs": [
        {
          "output_type": "stream",
          "name": "stdout",
          "text": [
            "Cloning into 'project_chd'...\n",
            "remote: Enumerating objects: 13, done.\u001b[K\n",
            "remote: Counting objects: 100% (13/13), done.\u001b[K\n",
            "remote: Compressing objects: 100% (13/13), done.\u001b[K\n",
            "remote: Total 13 (delta 4), reused 2 (delta 0), pack-reused 0\u001b[K\n",
            "Receiving objects: 100% (13/13), 635.72 KiB | 2.04 MiB/s, done.\n",
            "Resolving deltas: 100% (4/4), done.\n"
          ]
        }
      ],
      "source": [
        "! git clone https://github.com/Catherine-Nguyen88/project_chd"
      ]
    },
    {
      "cell_type": "code",
      "source": [
        "import pandas as pd\n",
        "import numpy as np\n",
        "import matplotlib.pyplot as plt\n",
        "import seaborn as sns"
      ],
      "metadata": {
        "id": "vq39g0lLuFve"
      },
      "execution_count": 2,
      "outputs": []
    },
    {
      "cell_type": "markdown",
      "source": [
        "Import training and testing datasets. see if we need to clean the data"
      ],
      "metadata": {
        "id": "GTs51Ngav4DU"
      }
    },
    {
      "cell_type": "code",
      "source": [
        "df_test = pd.read_csv('./project_chd/fhs_test.csv')\n",
        "print( df_test.shape, '\\n')\n",
        "print( df_test.head(), '\\n')\n",
        "\n",
        "print(df_test.dtypes)\n",
        "# count the nans in each variable\n",
        "num_nans = df_test.isna().sum()\n",
        "print(\"Number of NaNs for each variable:\")\n",
        "print(num_nans)"
      ],
      "metadata": {
        "colab": {
          "base_uri": "https://localhost:8080/"
        },
        "id": "31DGFr43uek7",
        "outputId": "73d0c4d1-30ad-4b7a-a2ce-66088c2f4e52"
      },
      "execution_count": 18,
      "outputs": [
        {
          "output_type": "stream",
          "name": "stdout",
          "text": [
            "(1060, 17) \n",
            "\n",
            "   Unnamed: 0  sex  age  education  currentSmoker  cigsPerDay  BPMeds  \\\n",
            "0         674    0   58        1.0              1        20.0     0.0   \n",
            "1        4070    0   51        3.0              0         0.0     0.0   \n",
            "2        3150    0   44        2.0              1         9.0     0.0   \n",
            "3        1695    0   40        2.0              1        20.0     0.0   \n",
            "4        2692    1   58        2.0              1        20.0     0.0   \n",
            "\n",
            "   prevalentStroke  prevalentHyp  diabetes  totChol  sysBP  diaBP    BMI  \\\n",
            "0                0             0         0      NaN  126.0   77.0  30.08   \n",
            "1                0             0         0    264.0  135.0   83.0  26.68   \n",
            "2                0             1         0      NaN  147.5   96.0  30.57   \n",
            "3                0             0         0    271.0  138.5   88.0  27.24   \n",
            "4                0             0         0    207.0  110.0   80.0  23.55   \n",
            "\n",
            "   heartRate  glucose  TenYearCHD  \n",
            "0       78.0      NaN           0  \n",
            "1       60.0     74.0           0  \n",
            "2       78.0      NaN           1  \n",
            "3       80.0      NaN           1  \n",
            "4       78.0     78.0           0   \n",
            "\n",
            "Unnamed: 0           int64\n",
            "sex                  int64\n",
            "age                  int64\n",
            "education          float64\n",
            "currentSmoker        int64\n",
            "cigsPerDay         float64\n",
            "BPMeds             float64\n",
            "prevalentStroke      int64\n",
            "prevalentHyp         int64\n",
            "diabetes             int64\n",
            "totChol            float64\n",
            "sysBP              float64\n",
            "diaBP              float64\n",
            "BMI                float64\n",
            "heartRate          float64\n",
            "glucose            float64\n",
            "TenYearCHD           int64\n",
            "dtype: object\n",
            "Number of NaNs for each variable:\n",
            "Unnamed: 0           0\n",
            "sex                  0\n",
            "age                  0\n",
            "education           20\n",
            "currentSmoker        0\n",
            "cigsPerDay           5\n",
            "BPMeds              16\n",
            "prevalentStroke      0\n",
            "prevalentHyp         0\n",
            "diabetes             0\n",
            "totChol             11\n",
            "sysBP                0\n",
            "diaBP                0\n",
            "BMI                  4\n",
            "heartRate            1\n",
            "glucose            103\n",
            "TenYearCHD           0\n",
            "dtype: int64\n"
          ]
        }
      ]
    },
    {
      "cell_type": "code",
      "source": [
        "df_train = pd.read_csv('./project_chd/fhs_train.csv')\n",
        "print(df_train.shape, '\\n')\n",
        "print(df_train.head(), '\\n')\n",
        "print(df_train.dtypes)\n",
        "\n",
        "# count the nans in each variable\n",
        "num_nans = df_train.isna().sum()\n",
        "print(\"Number of NaNs for each variable:\")\n",
        "print(num_nans)"
      ],
      "metadata": {
        "colab": {
          "base_uri": "https://localhost:8080/"
        },
        "id": "Rwkpc68evTQZ",
        "outputId": "01e9d5a7-a366-4c05-fc97-caff0687735e"
      },
      "execution_count": 17,
      "outputs": [
        {
          "output_type": "stream",
          "name": "stdout",
          "text": [
            "(3180, 17) \n",
            "\n",
            "   Unnamed: 0  sex  age  education  currentSmoker  cigsPerDay  BPMeds  \\\n",
            "0        1267    1   58        1.0              0         0.0     0.0   \n",
            "1        1209    0   40        1.0              1        15.0     0.0   \n",
            "2        2050    0   52        1.0              0         0.0     0.0   \n",
            "3        1183    1   38        2.0              1        43.0     0.0   \n",
            "4        3225    0   43        1.0              0         0.0     0.0   \n",
            "\n",
            "   prevalentStroke  prevalentHyp  diabetes  totChol  sysBP  diaBP    BMI  \\\n",
            "0                0             0         0    220.0  143.0  104.0  29.85   \n",
            "1                0             0         0    199.0  122.0   82.0  22.16   \n",
            "2                0             0         0    275.0  112.0   71.0  25.68   \n",
            "3                0             1         0    170.0  130.0   94.0  23.90   \n",
            "4                0             0         0    202.0  124.0   92.0  21.26   \n",
            "\n",
            "   heartRate  glucose  TenYearCHD  \n",
            "0         75     87.0           1  \n",
            "1         85     77.0           0  \n",
            "2         80      NaN           0  \n",
            "3        110     75.0           0  \n",
            "4         75     74.0           0   \n",
            "\n",
            "Unnamed: 0           int64\n",
            "sex                  int64\n",
            "age                  int64\n",
            "education          float64\n",
            "currentSmoker        int64\n",
            "cigsPerDay         float64\n",
            "BPMeds             float64\n",
            "prevalentStroke      int64\n",
            "prevalentHyp         int64\n",
            "diabetes             int64\n",
            "totChol            float64\n",
            "sysBP              float64\n",
            "diaBP              float64\n",
            "BMI                float64\n",
            "heartRate            int64\n",
            "glucose            float64\n",
            "TenYearCHD           int64\n",
            "dtype: object\n",
            "Number of NaNs for each variable:\n",
            "Unnamed: 0           0\n",
            "sex                  0\n",
            "age                  0\n",
            "education           85\n",
            "currentSmoker        0\n",
            "cigsPerDay          24\n",
            "BPMeds              37\n",
            "prevalentStroke      0\n",
            "prevalentHyp         0\n",
            "diabetes             0\n",
            "totChol             39\n",
            "sysBP                0\n",
            "diaBP                0\n",
            "BMI                 15\n",
            "heartRate            0\n",
            "glucose            285\n",
            "TenYearCHD           0\n",
            "dtype: int64\n"
          ]
        }
      ]
    }
  ]
}
{
  "nbformat": 4,
  "nbformat_minor": 0,
  "metadata": {
    "colab": {
      "provenance": [],
      "authorship_tag": "ABX9TyP66b1VVjYBqd/RP8caxCva",
      "include_colab_link": true
    },
    "kernelspec": {
      "name": "python3",
      "display_name": "Python 3"
    },
    "language_info": {
      "name": "python"
    }
  },
  "cells": [
    {
      "cell_type": "markdown",
      "metadata": {
        "id": "view-in-github",
        "colab_type": "text"
      },
      "source": [
        "<a href=\"https://colab.research.google.com/github/Catherine-Nguyen88/project_chd/blob/main/DS3001_Project_2_Report_(Group_17).ipynb\" target=\"_parent\"><img src=\"https://colab.research.google.com/assets/colab-badge.svg\" alt=\"Open In Colab\"/></a>"
      ]
    },
    {
      "cell_type": "markdown",
      "source": [
        "#**DS3001 Project 1 (Group 17)**\n",
        "\n",
        "Isabella Dressel, Camila Gutierrez, Catherine Nguyen, Rhiannon Staley"
      ],
      "metadata": {
        "id": "sH-I9BXUv8Ws"
      }
    },
    {
      "cell_type": "markdown",
      "source": [
        "**Summary**"
      ],
      "metadata": {
        "id": "rxgBssKQwAPq"
      }
    },
    {
      "cell_type": "markdown",
      "source": [
        "Catherine"
      ],
      "metadata": {
        "id": "Fyo8c9wQ9wq1"
      }
    },
    {
      "cell_type": "markdown",
      "source": [
        "**Data**"
      ],
      "metadata": {
        "id": "D2E2fnOewQ51"
      }
    },
    {
      "cell_type": "markdown",
      "source": [
        "Camila  "
      ],
      "metadata": {
        "id": "KLcD7yjT94mF"
      }
    },
    {
      "cell_type": "markdown",
      "source": [
        "**Results**"
      ],
      "metadata": {
        "id": "CLy3NEqFwjh0"
      }
    },
    {
      "cell_type": "markdown",
      "source": [
        "Isabella and Rhiannon"
      ],
      "metadata": {
        "id": "Rbrcl7R3-VDu"
      }
    },
    {
      "cell_type": "markdown",
      "source": [
        "**Conclusion**"
      ],
      "metadata": {
        "id": "vEoksmsXwkoo"
      }
    },
    {
      "cell_type": "markdown",
      "source": [
        "Catherine"
      ],
      "metadata": {
        "id": "wkZAwRQP-bJo"
      }
    },
    {
      "cell_type": "markdown",
      "source": [
        "**Appendix**"
      ],
      "metadata": {
        "id": "Y4mk0Ojvwm6u"
      }
    }
  ]
}
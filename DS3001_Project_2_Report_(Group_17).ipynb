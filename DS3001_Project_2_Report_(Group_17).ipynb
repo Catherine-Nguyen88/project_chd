{
  "nbformat": 4,
  "nbformat_minor": 0,
  "metadata": {
    "colab": {
      "provenance": [],
      "authorship_tag": "ABX9TyNkgSELUU6dZpcdEQ3tdOsa",
      "include_colab_link": true
    },
    "kernelspec": {
      "name": "python3",
      "display_name": "Python 3"
    },
    "language_info": {
      "name": "python"
    }
  },
  "cells": [
    {
      "cell_type": "markdown",
      "metadata": {
        "id": "view-in-github",
        "colab_type": "text"
      },
      "source": [
        "<a href=\"https://colab.research.google.com/github/Catherine-Nguyen88/project_chd/blob/main/DS3001_Project_2_Report_(Group_17).ipynb\" target=\"_parent\"><img src=\"https://colab.research.google.com/assets/colab-badge.svg\" alt=\"Open In Colab\"/></a>"
      ]
    },
    {
      "cell_type": "markdown",
      "source": [
        "#**DS3001 Project 2 (Group 17)**\n",
        "\n",
        "Isabella Dressel, Camila Gutierrez, Catherine Nguyen, Rhiannon Staley"
      ],
      "metadata": {
        "id": "sH-I9BXUv8Ws"
      }
    },
    {
      "cell_type": "markdown",
      "source": [
        "**Summary**"
      ],
      "metadata": {
        "id": "rxgBssKQwAPq"
      }
    },
    {
      "cell_type": "markdown",
      "source": [
        "Catherine"
      ],
      "metadata": {
        "id": "Fyo8c9wQ9wq1"
      }
    },
    {
      "cell_type": "markdown",
      "source": [
        "**Data**"
      ],
      "metadata": {
        "id": "D2E2fnOewQ51"
      }
    },
    {
      "cell_type": "markdown",
      "source": [
        "The data used was from the Framingham Study which began in 1948 through the US Public Health Service in Massachusetts. 5,209 men and women were studied in this longitudinal investigation of what leads to cardiovascular disease (CVD). By further understanding the risk factors that lead to CVD, this research intends to highlight the incidence rates of disease. 32 clinical exams and an event follow-up collected data up until 2018. Our specific project focuses on building predictive algorithms that predict if an individual develops CHD. We used 8 dependent variables (sex, currentSmoker, cigsPerDay, diabetes, totChol, sysBP, diaBP, and BMO) and 1 independent variable (TenYearCHD) in our research. Sex is the is the recorded sex of the participant with 1 designating males, diabetes is whether the participant has dibetes as of the first exam, totChol is the total cholesterol (mg/dL), sysBP is systolic blood pressure (mmHg), and BMI is body mass index (weight (kg)/height (m)2. Finally, TenYearCHD was 1 when a patient developed coronary heart disease within 10 years of exam For all the variables, NAs were dropped. The timeline analyzed was 1948 to 2018 to contrast possible differences correlations in risk factors and developing CHD. The data were cleaned in Cleaning_Variables.ipynb and extracted in project1_extract_data.ipynb."
      ],
      "metadata": {
        "id": "KLcD7yjT94mF"
      }
    },
    {
      "cell_type": "markdown",
      "source": [
        "**Results**"
      ],
      "metadata": {
        "id": "CLy3NEqFwjh0"
      }
    },
    {
      "cell_type": "markdown",
      "source": [
        "Isabella and Rhiannon"
      ],
      "metadata": {
        "id": "Rbrcl7R3-VDu"
      }
    },
    {
      "cell_type": "markdown",
      "source": [
        "**Conclusion**"
      ],
      "metadata": {
        "id": "vEoksmsXwkoo"
      }
    },
    {
      "cell_type": "markdown",
      "source": [
        "Catherine"
      ],
      "metadata": {
        "id": "wkZAwRQP-bJo"
      }
    },
    {
      "cell_type": "markdown",
      "source": [
        "**Appendix**"
      ],
      "metadata": {
        "id": "Y4mk0Ojvwm6u"
      }
    }
  ]
}